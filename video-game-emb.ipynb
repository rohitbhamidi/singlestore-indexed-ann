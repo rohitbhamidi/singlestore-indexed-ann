{
 "cells": [
  {
   "cell_type": "code",
   "execution_count": null,
   "metadata": {},
   "outputs": [],
   "source": [
    "import json\n",
    "from openai import OpenAI\n",
    "import time\n",
    "\n",
    "import sqlalchemy as sa\n",
    "from sqlalchemy import create_engine\n",
    "\n",
    "from s2_openai_info import USERNAME, PASSWORD, CONN_STR, PORT, DATABASE, API_KEY, EMBEDDING_MODEL, GPT_MODEL"
   ]
  },
  {
   "cell_type": "code",
   "execution_count": null,
   "metadata": {},
   "outputs": [],
   "source": [
    "client = OpenAI(api_key=API_KEY)\n",
    "engine = create_engine(f'mysql+pymysql://{USERNAME}:{PASSWORD}@{CONN_STR}:{PORT}/{DATABASE}')\n",
    "conn = engine.connect()\n",
    "print('Connected to SingleStore')"
   ]
  },
  {
   "cell_type": "code",
   "execution_count": null,
   "metadata": {},
   "outputs": [],
   "source": [
    "def get_embedding(text, model=EMBEDDING_MODEL):\n",
    "    '''Generates the OpenAI embedding from an input `text`.'''\n",
    "    if isinstance(text, str):\n",
    "        response = client.embeddings.create(input=[text], model=model)\n",
    "        embedding = response.data[0].embedding\n",
    "        # return np.array(embedding).tobytes()\n",
    "        return json.dumps(embedding)"
   ]
  },
  {
   "cell_type": "code",
   "execution_count": null,
   "metadata": {},
   "outputs": [],
   "source": [
    "def search_wiki_page(query, limit=5):\n",
    "    '''Returns a df of the top k matches to the query ordered by similarity.'''\n",
    "    query_embedding_vec = get_embedding(query)\n",
    "    statement = sa.text(\n",
    "        f'''SELECT paragraph, v <*> :query_embedding :> vector(1536) AS similarity\n",
    "        FROM vecs\n",
    "        ORDER BY similarity USE INDEX (ivfpq_nlist) DESC\n",
    "        LIMIT :limit;'''\n",
    "    )\n",
    "    print(\"Searching for matches...\")\n",
    "    start_time = time.time()\n",
    "    results = conn.execute(statement, {\"query_embedding\": query_embedding_vec, \"limit\": limit})\n",
    "    end_time = time.time()\n",
    "    execution_time = end_time - start_time\n",
    "    print(f\"Search complete in {execution_time} seconds.\")\n",
    "    results_as_dict = results.fetchall()\n",
    "    return results_as_dict"
   ]
  },
  {
   "cell_type": "code",
   "execution_count": null,
   "metadata": {},
   "outputs": [],
   "source": [
    "def ask_wiki_page(query, limit=5, temp=0.0):\n",
    "    '''Uses RAG to answer a question from the wiki page'''\n",
    "    results = search_wiki_page(query, limit)\n",
    "    print(\"Asking Chatbot...\")\n",
    "    prompt = f'''Excerpt from the conversation history: \n",
    "        {results}\n",
    "        Question: {query}\n",
    "        \n",
    "        Based on the conversation history, try to provide the most accurate answer to the question. \n",
    "        Consider the details mentioned in the conversation history to formulate a response that is as \n",
    "        helpful and precise as possible. please provide links to WIKIPEDIA ARTICLES TO LOOK AT FOR MORE INFORMATION.\n",
    "\n",
    "        Most importantly, IF THE INFORMATION IS NOT PRESENT IN THE CONVERSATION HISTORY, DO NOT MAKE UP AN ANSWER.'''\n",
    "    response = client.chat.completions.create(\n",
    "        model=GPT_MODEL,\n",
    "        messages=[\n",
    "            {\"role\": \"system\", \"content\": \"You are a helpful assistant who is answering questions about an article.\"},\n",
    "            {\"role\": \"user\", \"content\": prompt}\n",
    "        ],\n",
    "        temperature=temp\n",
    "    )\n",
    "    response_message = response.choices[0].message.content\n",
    "    return response_message"
   ]
  },
  {
   "cell_type": "code",
   "execution_count": 27,
   "metadata": {},
   "outputs": [
    {
     "name": "stdout",
     "output_type": "stream",
     "text": [
      "Searching for matches...\n",
      "Search complete in 0.1532001495361328 seconds.\n",
      "Asking Chatbot...\n",
      "The Mario video game franchise is known for its iconic platform games and puzzle games. It was developed and published by Nintendo, starting with the arcade game Mario Bros. in 1983. The franchise was designed by Shigeru Miyamoto and Gunpei Yokoi. Mario Bros. was the first game produced by Intelligent Systems and originally began as a spin-off from the Donkey Kong series. \n",
      "\n",
      "One of the notable games in the franchise is Super Mario Bros., which was released for the Nintendo Entertainment System in 1985. It introduced elements such as spinning bonus coins, turtles that can be flipped onto their backs, and Luigi, which became staples of the series. The development of Super Mario Bros. showcased early specialization in the video game industry, made possible by the Famicom's hardware capabilities.\n",
      "\n",
      "Another popular game in the franchise is Dr. Mario, a puzzle video game released in 1990. It was developed by Nintendo and designed by Takahiro Harada, with music composed by Hirokazu Tanaka.\n",
      "\n",
      "The Mario franchise has had a significant impact on popular culture, with Mario becoming a worldwide cultural icon. The success of the games helped establish Mario as a beloved character, and the franchise continues to release new games and spin-offs to this day.\n",
      "\n",
      "For more information, you can refer to the following Wikipedia articles:\n",
      "- [Mario (franchise)](https://en.wikipedia.org/wiki/Mario_(franchise))\n",
      "- [Super Mario Bros.](https://en.wikipedia.org/wiki/Super_Mario_Bros.)\n",
      "- [Dr. Mario](https://en.wikipedia.org/wiki/Dr._Mario)\n"
     ]
    }
   ],
   "source": [
    "print(ask_wiki_page(\"Tell me about the Mario video game franchise and its history. What is it known for?\"))"
   ]
  }
 ],
 "metadata": {
  "kernelspec": {
   "display_name": ".venv",
   "language": "python",
   "name": "python3"
  },
  "language_info": {
   "codemirror_mode": {
    "name": "ipython",
    "version": 3
   },
   "file_extension": ".py",
   "mimetype": "text/x-python",
   "name": "python",
   "nbconvert_exporter": "python",
   "pygments_lexer": "ipython3",
   "version": "3.12.0"
  }
 },
 "nbformat": 4,
 "nbformat_minor": 2
}
