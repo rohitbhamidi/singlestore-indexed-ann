{
 "cells": [
  {
   "cell_type": "code",
   "execution_count": 1,
   "metadata": {},
   "outputs": [],
   "source": [
    "import json\n",
    "from openai import OpenAI\n",
    "import time\n",
    "\n",
    "import sqlalchemy as sa\n",
    "from sqlalchemy import create_engine\n",
    "\n",
    "from s2_openai_info import USERNAME, PASSWORD, CONN_STR, PORT, DATABASE, API_KEY, EMBEDDING_MODEL, GPT_MODEL"
   ]
  },
  {
   "cell_type": "code",
   "execution_count": 2,
   "metadata": {},
   "outputs": [
    {
     "name": "stdout",
     "output_type": "stream",
     "text": [
      "Connected to SingleStore\n"
     ]
    }
   ],
   "source": [
    "client = OpenAI(api_key=API_KEY)\n",
    "engine = create_engine(f'mysql+pymysql://{USERNAME}:{PASSWORD}@{CONN_STR}:{PORT}/{DATABASE}')\n",
    "conn = engine.connect()\n",
    "print('Connected to SingleStore')"
   ]
  },
  {
   "cell_type": "code",
   "execution_count": 3,
   "metadata": {},
   "outputs": [],
   "source": [
    "def get_embedding(text, model=EMBEDDING_MODEL):\n",
    "    '''Generates the OpenAI embedding from an input `text`.'''\n",
    "    try:\n",
    "        if isinstance(text, str):\n",
    "            response = client.embeddings.create(input=[text], model=model)\n",
    "            embedding = response.data[0].embedding\n",
    "            # return np.array(embedding).tobytes()\n",
    "            return json.dumps(embedding)\n",
    "        else:\n",
    "            # print(f\"Invalid input: {text}\")\n",
    "            return None\n",
    "    except Exception as e:\n",
    "        # print(f\"Error generating embedding: {e}\")\n",
    "        return None"
   ]
  },
  {
   "cell_type": "code",
   "execution_count": 4,
   "metadata": {},
   "outputs": [],
   "source": [
    "def search_wiki_page(query, limit=5):\n",
    "    '''Returns a df of the top k matches to the query ordered by similarity.'''\n",
    "    query_embedding_vec = get_embedding(query)\n",
    "    # cast query embedding to vector data type :> vector(1536) - returning json dumps in embedding\n",
    "    statement = sa.text(\n",
    "        f'''SELECT paragraph, v <*> :query_embedding :> vector(1536) AS similarity\n",
    "        FROM vecs\n",
    "        ORDER BY similarity USE INDEX (ivfpq) DESC\n",
    "        LIMIT :limit;'''\n",
    "    )\n",
    "    print(\"Searching for matches...\")\n",
    "    start_time = time.time()\n",
    "    results = conn.execute(statement, {\"query_embedding\": query_embedding_vec, \"limit\": limit})\n",
    "    end_time = time.time()\n",
    "    execution_time = end_time - start_time\n",
    "    print(f\"Search complete in {execution_time} seconds.\")\n",
    "    results_as_dict = results.fetchall()\n",
    "    return results_as_dict"
   ]
  },
  {
   "cell_type": "code",
   "execution_count": 5,
   "metadata": {},
   "outputs": [],
   "source": [
    "def ask_wiki_page(query, limit=5, temp=0.0):\n",
    "    '''Uses a RAG to answer a question from the wiki page'''\n",
    "    results = search_wiki_page(query, limit)\n",
    "    print(\"Asking Chatbot...\")\n",
    "    prompt = f'''Excerpt from the conversation history: \n",
    "        {results}\n",
    "        Question: {query}\n",
    "        \n",
    "        Based on the conversation history, try to provide the most accurate answer to the question. \n",
    "        Consider the details mentioned in the conversation history to formulate a response that is as \n",
    "        helpful and precise as possible. please provide links to WIKIPEDIA ARTICLES TO LOOK AT FOR MORE INFORMATION.\n",
    "\n",
    "        Most importantly, IF THE INFORMATION IS NOT PRESENT IN THE CONVERSATION HISTORY, PLEASE DO NOT MAKE UP AN ANSWER.'''\n",
    "    response = client.chat.completions.create(\n",
    "        model=GPT_MODEL,\n",
    "        messages=[\n",
    "            {\"role\": \"system\", \"content\": \"You are a helpful assistant who is answering questions about an article.\"},\n",
    "            {\"role\": \"user\", \"content\": prompt}\n",
    "        ],\n",
    "        temperature=temp\n",
    "    )\n",
    "    response_message = response.choices[0].message.content\n",
    "    return response_message"
   ]
  },
  {
   "cell_type": "code",
   "execution_count": 6,
   "metadata": {},
   "outputs": [
    {
     "name": "stdout",
     "output_type": "stream",
     "text": [
      "Searching for matches...\n",
      "Search complete in 0.2285749912261963 seconds.\n",
      "Asking Chatbot...\n"
     ]
    },
    {
     "data": {
      "text/plain": [
       "'The Mario video game franchise is known for its iconic platforming games featuring the character Mario, created by Nintendo. The franchise began with the release of the arcade game \"Mario Bros.\" in 1983, designed by Shigeru Miyamoto and Gunpei Yokoi. It was followed by the critically acclaimed \"Super Mario RPG: Legend of the Seven Stars,\" which introduced role-playing elements to the series and inspired other RPG spin-offs like \"Paper Mario\" and \"Mario & Luigi.\" \\n\\nOne of the most popular games in the franchise is \"Super Mario Bros. 3,\" praised for its challenging gameplay and considered one of the greatest video games of all time. Another notable entry is \"Super Mario Land,\" released as a launch game for the Game Boy handheld console, introducing the character Princess Daisy and featuring unique shooter levels.\\n\\nThe franchise has expanded beyond video games, with an animated television series called \"The Adventures of Super Mario Bros. 3\" and even a feature-length anime film titled \"Super Mario Bros.: The Great Mission to Rescue Princess Peach!\" In recent years, a new animated feature film called \"The Super Mario Bros. Movie\" was released in 2023.\\n\\nFor more detailed information about the Mario video game franchise and its history, you can refer to the Wikipedia articles on \"Mario (franchise)\" and \"List of Mario video games.\"\\n\\n[Mario (franchise) - Wikipedia](https://en.wikipedia.org/wiki/Mario_(franchise))\\n[List of Mario video games - Wikipedia](https://en.wikipedia.org/wiki/List_of_Mario_video_games)'"
      ]
     },
     "execution_count": 6,
     "metadata": {},
     "output_type": "execute_result"
    }
   ],
   "source": [
    "ask_wiki_page(\"Tell me about the Mario video game franchise and its history. What is it known for?\", limit=15)"
   ]
  }
 ],
 "metadata": {
  "kernelspec": {
   "display_name": ".venv",
   "language": "python",
   "name": "python3"
  },
  "language_info": {
   "codemirror_mode": {
    "name": "ipython",
    "version": 3
   },
   "file_extension": ".py",
   "mimetype": "text/x-python",
   "name": "python",
   "nbconvert_exporter": "python",
   "pygments_lexer": "ipython3",
   "version": "3.12.0"
  }
 },
 "nbformat": 4,
 "nbformat_minor": 2
}
